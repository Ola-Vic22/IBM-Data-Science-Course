{
 "cells": [
  {
   "cell_type": "markdown",
   "id": "8f5e6406-948e-481b-8110-6e5b6fb7e81f",
   "metadata": {},
   "source": [
    "# Data Science Tools and Ecosystem"
   ]
  },
  {
   "cell_type": "markdown",
   "id": "0e474277-359b-4ed4-98ff-5830b17fd79c",
   "metadata": {},
   "source": [
    "In this notebook, Data science Tools and Ecosystens discussed in this course are summarised"
   ]
  },
  {
   "cell_type": "markdown",
   "id": "0095999d-520f-4677-8151-31be7db1b332",
   "metadata": {},
   "source": [
    "Some of the popular languages that Data Scientist use are:\n",
    "1. Python\n",
    "2. R\n",
    "3. Java\n",
    "4. Scala"
   ]
  },
  {
   "cell_type": "markdown",
   "id": "8812f7e5-2109-4616-90ff-121f817885e6",
   "metadata": {},
   "source": [
    "Some of the libraries commonly used by Data Scientist include:\n",
    "1. Plotly\n",
    "2. Matplotlib\n",
    "3. Scikit learn\n",
    "4. Pandas"
   ]
  },
  {
   "cell_type": "markdown",
   "id": "b5c4e192-7599-4d47-85de-0047fdbc80fa",
   "metadata": {},
   "source": [
    "| Data Science Tools |\n",
    "|:--------------------:|\n",
    "| Anaconda |\n",
    "| VS Code |\n",
    "| Python |\n",
    "| R |"
   ]
  },
  {
   "cell_type": "markdown",
   "id": "70d85f2a-4e1d-407a-a09c-4b011f5fe4a2",
   "metadata": {},
   "source": [
    "### Below are a few examples of evaluating arithmetic expressions in Python"
   ]
  },
  {
   "cell_type": "code",
   "execution_count": 9,
   "id": "89e6d7bd-219c-429c-ac75-3723d3df9a46",
   "metadata": {},
   "outputs": [
    {
     "data": {
      "text/plain": [
       "17"
      ]
     },
     "execution_count": 9,
     "metadata": {},
     "output_type": "execute_result"
    }
   ],
   "source": [
    "(3*4)+5 #This is a simple arithmetic expression to multiply then add integers"
   ]
  },
  {
   "cell_type": "code",
   "execution_count": 17,
   "id": "4058bc15-aa95-47e4-bb71-d752827d6381",
   "metadata": {},
   "outputs": [
    {
     "name": "stdout",
     "output_type": "stream",
     "text": [
      "3.3333333333333335 hours\n"
     ]
    }
   ],
   "source": [
    "mins = 200 \n",
    "hours = mins/60 #This will convert minutes to hours by dividing by 60\n",
    "print(f\"{hours} hours\")"
   ]
  },
  {
   "cell_type": "markdown",
   "id": "d45980c3-c5dd-490d-b5ce-961a27fec659",
   "metadata": {},
   "source": [
    "**Objectives**\n",
    "* List popular languages for Data Science\n",
    "* List commonly used libraries in Data Science\n",
    "* List popular Data Science tools in a tabular format"
   ]
  },
  {
   "cell_type": "markdown",
   "id": "ce9301c8-b4cd-422d-b4f5-1c5ef1a5765b",
   "metadata": {},
   "source": [
    "## Author\n",
    "Oyedeji Olaoluwa Victor"
   ]
  },
  {
   "cell_type": "code",
   "execution_count": null,
   "id": "461cfdbb-20f3-44da-a2a2-8c2e11e6fefc",
   "metadata": {},
   "outputs": [],
   "source": []
  }
 ],
 "metadata": {
  "kernelspec": {
   "display_name": "Python 3 (ipykernel)",
   "language": "python",
   "name": "python3"
  },
  "language_info": {
   "codemirror_mode": {
    "name": "ipython",
    "version": 3
   },
   "file_extension": ".py",
   "mimetype": "text/x-python",
   "name": "python",
   "nbconvert_exporter": "python",
   "pygments_lexer": "ipython3",
   "version": "3.11.7"
  }
 },
 "nbformat": 4,
 "nbformat_minor": 5
}
